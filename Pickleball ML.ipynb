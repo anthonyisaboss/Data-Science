{
 "cells": [
  {
   "cell_type": "code",
   "execution_count": 100,
   "id": "1f03605e-d956-490c-b87b-322bcac519e2",
   "metadata": {},
   "outputs": [],
   "source": [
    "import pandas as pd\n",
    "import seaborn as sns\n",
    "from matplotlib import pyplot as plt\n",
    "pd.set_option(\"future.no_silent_downcasting\", True)\n"
   ]
  },
  {
   "cell_type": "code",
   "execution_count": 99,
   "id": "c3c0fd27-00f7-47f8-b828-8d76a5aaa5c1",
   "metadata": {},
   "outputs": [],
   "source": [
    "predicting_data = pd.read_csv(\"pickleball game.csv\")\n",
    "predicting_data = predicting_data.filter([\"score_w\", \"skill_lvl\"])\n",
    "predicting_data = predicting_data.dropna()\n",
    "predicting_data = predicting_data.drop(predicting_data[predicting_data.score_w < 11].index)\n",
    "predicting_data[\"skill_lvl\"] = predicting_data.skill_lvl.replace({\"Pro\": 6})\n",
    "predicting_data[\"skill_lvl\"] = predicting_data.skill_lvl.replace({\"Senior Pro\": 5.5})\n",
    "predicting_data[\"skill_lvl\"] = pd.to_numeric(predicting_data[\"skill_lvl\"])\n",
    "predicting_data[\"score_w\"] = pd.to_numeric(predicting_data[\"score_w\"])\n",
    "predicting_data[\"score_w\"] = pd.to_numeric(predicting_data[\"score_w\"])\n"
   ]
  },
  {
   "cell_type": "code",
   "execution_count": 77,
   "id": "2eb71a91-733e-4899-8493-69379c486f03",
   "metadata": {},
   "outputs": [
    {
     "data": {
      "text/html": [
       "<div>\n",
       "<style scoped>\n",
       "    .dataframe tbody tr th:only-of-type {\n",
       "        vertical-align: middle;\n",
       "    }\n",
       "\n",
       "    .dataframe tbody tr th {\n",
       "        vertical-align: top;\n",
       "    }\n",
       "\n",
       "    .dataframe thead th {\n",
       "        text-align: right;\n",
       "    }\n",
       "</style>\n",
       "<table border=\"1\" class=\"dataframe\">\n",
       "  <thead>\n",
       "    <tr style=\"text-align: right;\">\n",
       "      <th></th>\n",
       "      <th>score_w</th>\n",
       "      <th>skill_lvl</th>\n",
       "    </tr>\n",
       "  </thead>\n",
       "  <tbody>\n",
       "    <tr>\n",
       "      <th>0</th>\n",
       "      <td>12</td>\n",
       "      <td>6.0</td>\n",
       "    </tr>\n",
       "    <tr>\n",
       "      <th>2</th>\n",
       "      <td>15</td>\n",
       "      <td>3.5</td>\n",
       "    </tr>\n",
       "    <tr>\n",
       "      <th>3</th>\n",
       "      <td>11</td>\n",
       "      <td>4.5</td>\n",
       "    </tr>\n",
       "    <tr>\n",
       "      <th>4</th>\n",
       "      <td>11</td>\n",
       "      <td>4.5</td>\n",
       "    </tr>\n",
       "    <tr>\n",
       "      <th>5</th>\n",
       "      <td>15</td>\n",
       "      <td>4.5</td>\n",
       "    </tr>\n",
       "    <tr>\n",
       "      <th>...</th>\n",
       "      <td>...</td>\n",
       "      <td>...</td>\n",
       "    </tr>\n",
       "    <tr>\n",
       "      <th>930</th>\n",
       "      <td>11</td>\n",
       "      <td>5.0</td>\n",
       "    </tr>\n",
       "    <tr>\n",
       "      <th>931</th>\n",
       "      <td>11</td>\n",
       "      <td>5.0</td>\n",
       "    </tr>\n",
       "    <tr>\n",
       "      <th>932</th>\n",
       "      <td>15</td>\n",
       "      <td>4.0</td>\n",
       "    </tr>\n",
       "    <tr>\n",
       "      <th>933</th>\n",
       "      <td>11</td>\n",
       "      <td>4.5</td>\n",
       "    </tr>\n",
       "    <tr>\n",
       "      <th>934</th>\n",
       "      <td>13</td>\n",
       "      <td>4.5</td>\n",
       "    </tr>\n",
       "  </tbody>\n",
       "</table>\n",
       "<p>918 rows × 2 columns</p>\n",
       "</div>"
      ],
      "text/plain": [
       "     score_w  skill_lvl\n",
       "0         12        6.0\n",
       "2         15        3.5\n",
       "3         11        4.5\n",
       "4         11        4.5\n",
       "5         15        4.5\n",
       "..       ...        ...\n",
       "930       11        5.0\n",
       "931       11        5.0\n",
       "932       15        4.0\n",
       "933       11        4.5\n",
       "934       13        4.5\n",
       "\n",
       "[918 rows x 2 columns]"
      ]
     },
     "execution_count": 77,
     "metadata": {},
     "output_type": "execute_result"
    }
   ],
   "source": [
    "predicting_data"
   ]
  },
  {
   "cell_type": "markdown",
   "id": "5d3e3590-a112-42ea-b070-26e803f8e3ac",
   "metadata": {},
   "source": [
    "normalizing the data because some of the rows had NaN values and had to convert strings to ints."
   ]
  },
  {
   "cell_type": "code",
   "execution_count": 78,
   "id": "f6dcd09c-809e-4cc5-be0b-d215b4735b57",
   "metadata": {},
   "outputs": [],
   "source": [
    "train = predicting_data.sample(frac=.8)\n",
    "test = predicting_data.drop(index= train.index)"
   ]
  },
  {
   "cell_type": "code",
   "execution_count": 79,
   "id": "5a2eeac0-e8c9-4bbc-adb2-d5e74b9168f3",
   "metadata": {},
   "outputs": [],
   "source": [
    "predicting_datam1 = predicting_data.groupby(\"score_w\")[\"skill_lvl\"].mean()\n",
    "\n"
   ]
  },
  {
   "cell_type": "code",
   "execution_count": 80,
   "id": "72942f7c-aa2f-4b28-aecc-ecf10a75d098",
   "metadata": {},
   "outputs": [
    {
     "name": "stdout",
     "output_type": "stream",
     "text": [
      "score_w\n",
      "11    4.601770\n",
      "12    4.709677\n",
      "13    4.442308\n",
      "14    4.200000\n",
      "15    4.390625\n",
      "16    4.944444\n",
      "17    4.750000\n",
      "19    5.000000\n",
      "20    5.333333\n",
      "21    4.865079\n",
      "22    4.722222\n",
      "23    4.500000\n",
      "24    4.000000\n",
      "25    5.809524\n",
      "26    6.000000\n",
      "27    6.000000\n",
      "28    6.000000\n",
      "32    6.000000\n",
      "Name: skill_lvl, dtype: float64\n"
     ]
    }
   ],
   "source": [
    "print(predicting_datam1)"
   ]
  },
  {
   "cell_type": "code",
   "execution_count": 81,
   "id": "5942969f-b5d7-4341-8c07-915781c39d39",
   "metadata": {},
   "outputs": [
    {
     "name": "stdout",
     "output_type": "stream",
     "text": [
      "(734, 1) (734,)\n",
      "(184, 1) (184,)\n",
      "Index(['skill_lvl'], dtype='object')\n"
     ]
    }
   ],
   "source": [
    "y_train = train[\"score_w\"] \n",
    "X_train = train.drop(columns=[\"score_w\"])\n",
    "print(X_train.shape, y_train.shape)\n",
    "\n",
    "y_test = test[\"score_w\"]\n",
    "X_test = test.drop(columns=[\"score_w\"])\n",
    "print(X_test.shape, y_test.shape)\n",
    "print(X_train.columns)\n"
   ]
  },
  {
   "cell_type": "code",
   "execution_count": 108,
   "id": "07cf6825-3546-47b8-904c-9a835d6f7b52",
   "metadata": {},
   "outputs": [
    {
     "name": "stdout",
     "output_type": "stream",
     "text": [
      "MSE: 11.983742940822317\n",
      "R² Score: 0.014655278843586084\n"
     ]
    },
    {
     "data": {
      "text/plain": [
       "Text(0.5, 1.0, 'Linear Regression: Skill Level vs Winning Score')"
      ]
     },
     "execution_count": 108,
     "metadata": {},
     "output_type": "execute_result"
    },
    {
     "data": {
      "image/png": "[encoded data removed]",
      "text/plain": [
       "<Figure size 800x600 with 1 Axes>"
      ]
     },
     "metadata": {},
     "output_type": "display_data"
    }
   ],
   "source": [
    "from sklearn.metrics import mean_squared_error, r2_score\n",
    "from sklearn.linear_model import LinearRegression\n",
    "model = LinearRegression()\n",
    "model.fit(X_train, y_train)\n",
    "\n",
    "y_pred = model.predict(X_test)\n",
    "print(\"MSE:\", mean_squared_error(y_test, y_pred))\n",
    "print(\"R² Score:\", r2_score(y_test, y_pred))\n",
    "plt.figure(figsize=(8, 6))\n",
    "plt.scatter(X_test, y_test, color='blue', label=\"Actual\")\n",
    "plt.plot(X_test, y_pred, color='red', linewidth=2, label=\"Predicted\")\n",
    "plt.xlabel(\"Skill Level\")\n",
    "plt.ylabel(\"Winning Score\")\n",
    "plt.title(\"Linear Regression: Skill Level vs Winning Score\")\n",
    "\n"
   ]
  },
  {
   "cell_type": "code",
   "execution_count": 90,
   "id": "c83040ae-bfd3-4297-b61b-693440c4106b",
   "metadata": {},
   "outputs": [
    {
     "name": "stdout",
     "output_type": "stream",
     "text": [
      "[11 12 13 14 15 16 17 19 20 21 22 23 24 25 26 27 28 32]\n"
     ]
    }
   ],
   "source": [
    "print(log_reg.classes_)"
   ]
  },
  {
   "cell_type": "code",
   "execution_count": null,
   "id": "836ac0c4-3d52-4e34-90f8-3c442cd4e3c6",
   "metadata": {},
   "outputs": [],
   "source": []
  }
 ],
 "metadata": {
  "kernelspec": {
   "display_name": "Python 3 (ipykernel)",
   "language": "python",
   "name": "python3"
  },
  "language_info": {
   "codemirror_mode": {
    "name": "ipython",
    "version": 3
   },
   "file_extension": ".py",
   "mimetype": "text/x-python",
   "name": "python",
   "nbconvert_exporter": "python",
   "pygments_lexer": "ipython3",
   "version": "3.11.4"
  }
 },
 "nbformat": 4,
 "nbformat_minor": 5
}
