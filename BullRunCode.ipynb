{
 "cells": [
  {
   "cell_type": "code",
   "execution_count": 180,
   "id": "d6212f74-06c3-4b5f-9ff8-9e4c4b86560d",
   "metadata": {},
   "outputs": [],
   "source": [
    "from sklearn.preprocessing import StandardScaler\n",
    "import yfinance as yf\n",
    "import pandas as pd\n",
    "import numpy as np\n",
    "import matplotlib.pyplot as plt\n",
    "import torch\n",
    "import torch.nn as nn\n",
    "import torch.optim as optim\n",
    "from sklearn.metrics import root_mean_squared_error"
   ]
  },
  {
   "cell_type": "code",
   "execution_count": 181,
   "id": "3d82ece6-204c-4537-a26f-cb21aea19160",
   "metadata": {},
   "outputs": [],
   "source": [
    "device = torch.device(\"cuda\" if torch.cuda.is_available() else \"cpu\")"
   ]
  },
  {
   "cell_type": "code",
   "execution_count": 182,
   "id": "99967425-5eb2-4aa3-a2b2-a1458390ccd5",
   "metadata": {},
   "outputs": [
    {
     "name": "stderr",
     "output_type": "stream",
     "text": [
      "[*********************100%***********************]  1 of 1 completed\n"
     ]
    },
    {
     "data": {
      "text/html": [
       "<div>\n",
       "<style scoped>\n",
       "    .dataframe tbody tr th:only-of-type {\n",
       "        vertical-align: middle;\n",
       "    }\n",
       "\n",
       "    .dataframe tbody tr th {\n",
       "        vertical-align: top;\n",
       "    }\n",
       "\n",
       "    .dataframe thead tr th {\n",
       "        text-align: left;\n",
       "    }\n",
       "\n",
       "    .dataframe thead tr:last-of-type th {\n",
       "        text-align: right;\n",
       "    }\n",
       "</style>\n",
       "<table border=\"1\" class=\"dataframe\">\n",
       "  <thead>\n",
       "    <tr>\n",
       "      <th>Price</th>\n",
       "      <th>Close</th>\n",
       "      <th>High</th>\n",
       "      <th>Low</th>\n",
       "      <th>Open</th>\n",
       "      <th>Volume</th>\n",
       "    </tr>\n",
       "    <tr>\n",
       "      <th>Ticker</th>\n",
       "      <th>AAPL</th>\n",
       "      <th>AAPL</th>\n",
       "      <th>AAPL</th>\n",
       "      <th>AAPL</th>\n",
       "      <th>AAPL</th>\n",
       "    </tr>\n",
       "    <tr>\n",
       "      <th>Date</th>\n",
       "      <th></th>\n",
       "      <th></th>\n",
       "      <th></th>\n",
       "      <th></th>\n",
       "      <th></th>\n",
       "    </tr>\n",
       "  </thead>\n",
       "  <tbody>\n",
       "    <tr>\n",
       "      <th>2020-01-02</th>\n",
       "      <td>72.620850</td>\n",
       "      <td>72.681296</td>\n",
       "      <td>71.373226</td>\n",
       "      <td>71.627100</td>\n",
       "      <td>135480400</td>\n",
       "    </tr>\n",
       "    <tr>\n",
       "      <th>2020-01-03</th>\n",
       "      <td>71.914810</td>\n",
       "      <td>72.676439</td>\n",
       "      <td>71.689950</td>\n",
       "      <td>71.847110</td>\n",
       "      <td>146322800</td>\n",
       "    </tr>\n",
       "    <tr>\n",
       "      <th>2020-01-06</th>\n",
       "      <td>72.487846</td>\n",
       "      <td>72.526533</td>\n",
       "      <td>70.783248</td>\n",
       "      <td>71.034709</td>\n",
       "      <td>118387200</td>\n",
       "    </tr>\n",
       "    <tr>\n",
       "      <th>2020-01-07</th>\n",
       "      <td>72.146935</td>\n",
       "      <td>72.753816</td>\n",
       "      <td>71.926907</td>\n",
       "      <td>72.497522</td>\n",
       "      <td>108872000</td>\n",
       "    </tr>\n",
       "    <tr>\n",
       "      <th>2020-01-08</th>\n",
       "      <td>73.307510</td>\n",
       "      <td>73.609745</td>\n",
       "      <td>71.849533</td>\n",
       "      <td>71.849533</td>\n",
       "      <td>132079200</td>\n",
       "    </tr>\n",
       "    <tr>\n",
       "      <th>...</th>\n",
       "      <td>...</td>\n",
       "      <td>...</td>\n",
       "      <td>...</td>\n",
       "      <td>...</td>\n",
       "      <td>...</td>\n",
       "    </tr>\n",
       "    <tr>\n",
       "      <th>2025-06-02</th>\n",
       "      <td>201.699997</td>\n",
       "      <td>202.130005</td>\n",
       "      <td>200.119995</td>\n",
       "      <td>200.279999</td>\n",
       "      <td>35423300</td>\n",
       "    </tr>\n",
       "    <tr>\n",
       "      <th>2025-06-03</th>\n",
       "      <td>203.270004</td>\n",
       "      <td>203.770004</td>\n",
       "      <td>200.960007</td>\n",
       "      <td>201.350006</td>\n",
       "      <td>46381600</td>\n",
       "    </tr>\n",
       "    <tr>\n",
       "      <th>2025-06-04</th>\n",
       "      <td>202.820007</td>\n",
       "      <td>206.240005</td>\n",
       "      <td>202.100006</td>\n",
       "      <td>202.910004</td>\n",
       "      <td>43604000</td>\n",
       "    </tr>\n",
       "    <tr>\n",
       "      <th>2025-06-05</th>\n",
       "      <td>200.630005</td>\n",
       "      <td>204.750000</td>\n",
       "      <td>200.149994</td>\n",
       "      <td>203.500000</td>\n",
       "      <td>55126100</td>\n",
       "    </tr>\n",
       "    <tr>\n",
       "      <th>2025-06-06</th>\n",
       "      <td>203.919998</td>\n",
       "      <td>205.699997</td>\n",
       "      <td>202.050003</td>\n",
       "      <td>203.000000</td>\n",
       "      <td>46539200</td>\n",
       "    </tr>\n",
       "  </tbody>\n",
       "</table>\n",
       "<p>1365 rows × 5 columns</p>\n",
       "</div>"
      ],
      "text/plain": [
       "Price            Close        High         Low        Open     Volume\n",
       "Ticker            AAPL        AAPL        AAPL        AAPL       AAPL\n",
       "Date                                                                 \n",
       "2020-01-02   72.620850   72.681296   71.373226   71.627100  135480400\n",
       "2020-01-03   71.914810   72.676439   71.689950   71.847110  146322800\n",
       "2020-01-06   72.487846   72.526533   70.783248   71.034709  118387200\n",
       "2020-01-07   72.146935   72.753816   71.926907   72.497522  108872000\n",
       "2020-01-08   73.307510   73.609745   71.849533   71.849533  132079200\n",
       "...                ...         ...         ...         ...        ...\n",
       "2025-06-02  201.699997  202.130005  200.119995  200.279999   35423300\n",
       "2025-06-03  203.270004  203.770004  200.960007  201.350006   46381600\n",
       "2025-06-04  202.820007  206.240005  202.100006  202.910004   43604000\n",
       "2025-06-05  200.630005  204.750000  200.149994  203.500000   55126100\n",
       "2025-06-06  203.919998  205.699997  202.050003  203.000000   46539200\n",
       "\n",
       "[1365 rows x 5 columns]"
      ]
     },
     "execution_count": 182,
     "metadata": {},
     "output_type": "execute_result"
    }
   ],
   "source": [
    "ticker = \"AAPL\"\n",
    "df= yf.download(ticker, start = \"2020-1-1\")\n",
    "df"
   ]
  },
  {
   "cell_type": "code",
   "execution_count": 183,
   "id": "3d8cf681-8ad8-4cdf-8a54-fc5955c5eac8",
   "metadata": {},
   "outputs": [
    {
     "data": {
      "text/plain": [
       "<Axes: xlabel='Date'>"
      ]
     },
     "execution_count": 183,
     "metadata": {},
     "output_type": "execute_result"
    },
    {
     "data": {
      "image/png": "[encoded data removed]",
      "text/plain": [
       "<Figure size 1200x600 with 1 Axes>"
      ]
     },
     "metadata": {},
     "output_type": "display_data"
    }
   ],
   "source": [
    "df.Close.plot(figsize= (12,6))"
   ]
  },
  {
   "cell_type": "markdown",
   "id": "8f074d50-ff1b-4346-bf56-b6eaa4e68e6a",
   "metadata": {},
   "source": [
    "After visualizing the data, we are going to add a standard scaler to help with training the data. Also going to split into train/test splits."
   ]
  },
  {
   "cell_type": "code",
   "execution_count": 184,
   "id": "780766af-49fa-4208-a4f8-89e8cb4881ba",
   "metadata": {},
   "outputs": [],
   "source": [
    "\n",
    "scaler = StandardScaler()\n",
    "df[\"Close\"] = scaler.fit_transform(df[\"Close\"])\n"
   ]
  },
  {
   "cell_type": "code",
   "execution_count": 185,
   "id": "1560021f-970d-4400-bab7-740a27498fc7",
   "metadata": {},
   "outputs": [],
   "source": [
    "seq_length= 30\n",
    "data = []\n",
    "\n",
    "for i in range(len(df) - seq_length):\n",
    "    data.append(df.Close[i:i+seq_length])\n",
    "data = np.array(data)\n",
    "train_size = int(.8 *len(data))\n",
    "X_train = torch.from_numpy(data[:train_size, :-1, :]).type(torch.Tensor).to(device)\n",
    "y_train = torch.from_numpy(data[:train_size, -1, :]).type(torch.Tensor).to(device)\n",
    "X_test = torch.from_numpy(data[train_size:, :-1, :]).type(torch.Tensor).to(device)\n",
    "y_test = torch.from_numpy(data[train_size:, -1, :]).type(torch.Tensor).to(device)"
   ]
  },
  {
   "cell_type": "code",
   "execution_count": 186,
   "id": "896f5df7-6be7-45d7-9010-131040fa4f10",
   "metadata": {},
   "outputs": [],
   "source": [
    "class Prediction(nn.Module):\n",
    "\n",
    "    def __init__(self, input_dim, hidden_dim, num_layers, output_dim):\n",
    "        super(Prediction, self).__init__()\n",
    "        self.hidden_dim = hidden_dim\n",
    "        self.num_layers = num_layers\n",
    "        self.lstm = nn.LSTM(input_dim, hidden_dim, num_layers, batch_first= True)\n",
    "        self.fc = nn.Linear(hidden_dim, output_dim)\n",
    "    def forward(self, x):\n",
    "        h0 = torch.zeros(self.num_layers, x.size(0), self.hidden_dim, device= device)\n",
    "        c0 = torch.zeros(self.num_layers, x.size(0), self.hidden_dim,device= device)\n",
    "        out, (hn, cn) = self.lstm(x, (h0.detach(), c0.detach()))\n",
    "        out = self.fc(out[:, -1, :])\n",
    "        return out\n",
    "    "
   ]
  },
  {
   "cell_type": "code",
   "execution_count": 187,
   "id": "799a760b-06c3-4b67-85e8-3c4a9b870bbf",
   "metadata": {},
   "outputs": [],
   "source": [
    "model = Prediction(input_dim=1,hidden_dim=32,num_layers=2,output_dim=1).to(device)"
   ]
  },
  {
   "cell_type": "code",
   "execution_count": 188,
   "id": "14573f6d-9751-4ef8-8e13-0fb256e67581",
   "metadata": {},
   "outputs": [],
   "source": [
    "criterion = nn.MSELoss()\n",
    "optimizer = optim.Adam(model.parameters(), lr= .01)\n"
   ]
  },
  {
   "cell_type": "code",
   "execution_count": null,
   "id": "0eef3c8e-546c-4742-a47b-d4d1f109eee9",
   "metadata": {},
   "outputs": [],
   "source": []
  },
  {
   "cell_type": "markdown",
   "id": "2c8a8bf6-fcf6-417e-ac79-6a467b800d45",
   "metadata": {},
   "source": [
    "Shows how the model will learn, MSE is good \n",
    "for regression tasks and show how off your predictions are and the optimizer is using adam to optimize the model"
   ]
  },
  {
   "cell_type": "code",
   "execution_count": 189,
   "id": "88aa76d3-5b5d-46c9-b0d3-8ab05688bc41",
   "metadata": {},
   "outputs": [
    {
     "name": "stdout",
     "output_type": "stream",
     "text": [
      "0 0.5893063545227051\n",
      "25 0.00938545074313879\n",
      "50 0.005986044183373451\n",
      "75 0.005226724315434694\n",
      "100 0.004828556906431913\n",
      "125 0.0045045227743685246\n",
      "150 0.004201171919703484\n",
      "175 0.003919750917702913\n"
     ]
    }
   ],
   "source": [
    "num_epochs = 200\n",
    "for i in range(num_epochs):\n",
    "    y_train_pred = model(X_train)\n",
    "    loss = criterion(y_train_pred, y_train)\n",
    "    if i % 25 == 0:\n",
    "        print(i,loss.item())\n",
    "    optimizer.zero_grad()\n",
    "    loss.backward()\n",
    "    optimizer.step()\n"
   ]
  },
  {
   "cell_type": "code",
   "execution_count": 190,
   "id": "80488f81-f6b7-4029-a962-a536c8dbd9f4",
   "metadata": {},
   "outputs": [],
   "source": [
    "model.eval()\n",
    "y_test_pred = model(X_test)\n",
    "y_train_pred = scaler.inverse_transform(y_train_pred.detach().cpu().numpy())\n",
    "y_test_pred = scaler.inverse_transform(y_test_pred.detach().cpu().numpy())\n",
    "y_test = scaler.inverse_transform(y_test.detach().cpu().numpy())\n",
    "y_train = scaler.inverse_transform(y_train.detach().cpu().numpy())"
   ]
  },
  {
   "cell_type": "code",
   "execution_count": 197,
   "id": "110cdd2a-9086-41fb-af9e-135cec2b529d",
   "metadata": {},
   "outputs": [
    {
     "data": {
      "text/plain": [
       "2.6944377422332764"
      ]
     },
     "execution_count": 197,
     "metadata": {},
     "output_type": "execute_result"
    }
   ],
   "source": [
    "train_rmse = root_mean_squared_error(y_train[:,0], y_train_pred[:,0])\n",
    "test_rmse = root_mean_squared_error(y_test[:,0], y_test_pred[:, 0])"
   ]
  },
  {
   "cell_type": "code",
   "execution_count": 198,
   "id": "e58a7965-3a59-4552-8bda-8d1094350022",
   "metadata": {},
   "outputs": [
    {
     "data": {
      "text/plain": [
       "2.6944377422332764"
      ]
     },
     "execution_count": 198,
     "metadata": {},
     "output_type": "execute_result"
    }
   ],
   "source": [
    "train_rmse"
   ]
  },
  {
   "cell_type": "code",
   "execution_count": 199,
   "id": "cfee72a8-6257-4f10-b717-453d83e4db06",
   "metadata": {},
   "outputs": [
    {
     "data": {
      "text/plain": [
       "7.4132304191589355"
      ]
     },
     "execution_count": 199,
     "metadata": {},
     "output_type": "execute_result"
    }
   ],
   "source": [
    "test_rmse"
   ]
  },
  {
   "cell_type": "code",
   "execution_count": 200,
   "id": "4f36baf9-1ff4-4208-8f31-1a560e5eb403",
   "metadata": {},
   "outputs": [
    {
     "ename": "SyntaxError",
     "evalue": "invalid syntax (187083285.py, line 1)",
     "output_type": "error",
     "traceback": [
      "\u001b[1;36m  Cell \u001b[1;32mIn[200], line 1\u001b[1;36m\u001b[0m\n\u001b[1;33m    git clone https://github.com/aaron-caveney/BullRunPro.git\u001b[0m\n\u001b[1;37m        ^\u001b[0m\n\u001b[1;31mSyntaxError\u001b[0m\u001b[1;31m:\u001b[0m invalid syntax\n"
     ]
    }
   ],
   "source": []
  },
  {
   "cell_type": "code",
   "execution_count": null,
   "id": "f5913108-8e86-4582-be9c-c712ec3b2cae",
   "metadata": {},
   "outputs": [],
   "source": []
  }
 ],
 "metadata": {
  "kernelspec": {
   "display_name": "Python 3 (ipykernel)",
   "language": "python",
   "name": "python3"
  },
  "language_info": {
   "codemirror_mode": {
    "name": "ipython",
    "version": 3
   },
   "file_extension": ".py",
   "mimetype": "text/x-python",
   "name": "python",
   "nbconvert_exporter": "python",
   "pygments_lexer": "ipython3",
   "version": "3.11.4"
  }
 },
 "nbformat": 4,
 "nbformat_minor": 5
}
